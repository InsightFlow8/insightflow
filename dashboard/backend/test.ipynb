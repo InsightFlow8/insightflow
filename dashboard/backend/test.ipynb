{
 "cells": [
  {
   "cell_type": "code",
   "execution_count": 5,
   "id": "160a989c",
   "metadata": {},
   "outputs": [
    {
     "name": "stderr",
     "output_type": "stream",
     "text": [
      "INFO:user_segmentation_analysis:Loading user segmentation data from user_seg.parquet/\n",
      "INFO:user_segmentation_analysis:User segmentation data loaded with shape: (206209, 5)\n",
      "INFO:user_segmentation_analysis:User segmentation columns: ['user_id', 'R', 'F', 'M', 'segment']\n",
      "INFO:user_segmentation_analysis:Loading segment popularity data from segment_popularity.parquet/\n",
      "INFO:user_segmentation_analysis:Segment popularity data loaded with shape: (300, 4)\n",
      "INFO:user_segmentation_analysis:Segment popularity columns: ['segment', 'product_id', 'score', 'rank']\n",
      "INFO:user_segmentation_analysis:User 77 belongs to cluster 3.0\n",
      "INFO:user_segmentation_analysis:Retrieved top 10 recommendations for user 77 (cluster 3)\n",
      "INFO:user_segmentation_analysis:User 7 belongs to cluster 1.0\n"
     ]
    },
    {
     "name": "stdout",
     "output_type": "stream",
     "text": [
      "    segment  product_id     score  rank\n",
      "60        3       24852  0.014060     1\n",
      "61        3       13176  0.010313     2\n",
      "62        3       21137  0.007139     3\n",
      "63        3       21903  0.007116     4\n",
      "64        3       47766  0.005237     5\n",
      "65        3       47209  0.005049     6\n",
      "66        3       47626  0.004787     7\n",
      "67        3       16797  0.004751     8\n",
      "68        3       26209  0.003988     9\n",
      "69        3       27845  0.003574    10\n",
      "User 7 belongs to cluster 1\n"
     ]
    }
   ],
   "source": [
    "from user_segmentation_analysis import UserSegmentationAnalyzer\n",
    "\n",
    "# Initialize the analyzer\n",
    "analyzer = UserSegmentationAnalyzer()\n",
    "\n",
    "# Get top 10 recommendations for user ID 7\n",
    "recommendations = analyzer.get_top_n_recommendations_for_user(user_id=77, n=10)\n",
    "print(recommendations)\n",
    "\n",
    "# Get user's cluster\n",
    "cluster_id = analyzer.get_user_cluster(user_id=7)\n",
    "print(f\"User 7 belongs to cluster {cluster_id}\")"
   ]
  },
  {
   "cell_type": "code",
   "execution_count": null,
   "id": "d0fe366d",
   "metadata": {},
   "outputs": [],
   "source": []
  }
 ],
 "metadata": {
  "kernelspec": {
   "display_name": ".venv",
   "language": "python",
   "name": "python3"
  },
  "language_info": {
   "codemirror_mode": {
    "name": "ipython",
    "version": 3
   },
   "file_extension": ".py",
   "mimetype": "text/x-python",
   "name": "python",
   "nbconvert_exporter": "python",
   "pygments_lexer": "ipython3",
   "version": "3.11.0"
  }
 },
 "nbformat": 4,
 "nbformat_minor": 5
}
